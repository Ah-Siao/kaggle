{
 "cells": [
  {
   "cell_type": "code",
   "execution_count": 1,
   "id": "7269255e-c433-4c5c-81f1-0f7e1960b6ae",
   "metadata": {},
   "outputs": [],
   "source": [
    "import pandas as pd\n",
    "import numpy as np\n",
    "import matplotlib.pyplot as plt\n",
    "import seaborn as sns\n",
    "from sklearn.feature_extraction.text import TfidfVectorizer,CountVectorizer\n",
    "from sklearn.model_selection import train_test_split\n",
    "from sklearn.naive_bayes import MultinomialNB\n",
    "from sklearn.pipeline import Pipeline\n",
    "import xgboost as xgb\n",
    "from sklearn.svm import SVC\n",
    "import optuna"
   ]
  },
  {
   "cell_type": "code",
   "execution_count": null,
   "id": "737c1f97-5ad0-4dab-99f1-3a72f1d00c92",
   "metadata": {},
   "outputs": [],
   "source": [
    "train=pd.read_csv('train.csv')\n",
    "train=train.set_index('id')\n",
    "train=train.drop(['location','keyword'],axis=1)\n",
    "train=train.sample(frac=1,random_state=42)"
   ]
  },
  {
   "cell_type": "code",
   "execution_count": null,
   "id": "a8ad4b7f-7aff-4961-9e17-bdc03aff7942",
   "metadata": {},
   "outputs": [],
   "source": [
    "plt.figure(figsize=(3,3))\n",
    "sns.countplot(train,x='target')\n",
    "plt.xlabel('')\n",
    "plt.title('target')\n",
    "plt.show()"
   ]
  },
  {
   "cell_type": "code",
   "execution_count": null,
   "id": "058f877a-51b3-4896-ba9e-bc633893099d",
   "metadata": {},
   "outputs": [],
   "source": [
    "X=train.text.values\n",
    "y=train.target.values"
   ]
  },
  {
   "cell_type": "code",
   "execution_count": null,
   "id": "216002e2-464b-4a6e-87b3-e0843dde1c12",
   "metadata": {},
   "outputs": [],
   "source": [
    "X_train, X_test, y_train, y_test = train_test_split(X, y, test_size=0.3, random_state=101)"
   ]
  },
  {
   "cell_type": "code",
   "execution_count": null,
   "id": "1792661b-f6a5-475a-baa7-57fd72e5b91c",
   "metadata": {},
   "outputs": [],
   "source": [
    "vectorizer=TfidfVectorizer()\n",
    "X_train=vectorizer.fit_transform(X_train)\n",
    "X_test=vectorizer.transform(X_test)"
   ]
  },
  {
   "cell_type": "code",
   "execution_count": null,
   "id": "057bc278-d47a-40c7-8ad7-60d2ee3cc70e",
   "metadata": {},
   "outputs": [],
   "source": [
    "def objective(trial):\n",
    "    params={\n",
    "        'kernel' : trial.suggest_categorical('kernel', ['rbf']),\n",
    "        'C': trial.suggest_float('C',0.1,1000,log=True),\n",
    "        'gamma':trial.suggest_float('gamma',0.0001,1,log=True)\n",
    "    }\n",
    "    clf = SVC(**params)\n",
    "    clf.fit(X_train, y_train)\n",
    "    return clf.score(X_test, y_test)"
   ]
  },
  {
   "cell_type": "code",
   "execution_count": null,
   "id": "378b4322-65e6-4dff-9937-64ecc51cd76e",
   "metadata": {},
   "outputs": [],
   "source": [
    "study = optuna.create_study(direction='maximize')\n",
    "study.optimize(objective, n_trials=50)"
   ]
  },
  {
   "cell_type": "code",
   "execution_count": null,
   "id": "01c1a21c-0ff5-42eb-8e8f-37b408612253",
   "metadata": {},
   "outputs": [],
   "source": [
    "best_params=study.best_params\n",
    "best_params"
   ]
  },
  {
   "cell_type": "code",
   "execution_count": null,
   "id": "2693bfa7-c973-477b-bda1-6173c079a334",
   "metadata": {},
   "outputs": [],
   "source": [
    "model=SVC(kernel=best_params['kernel'],C=best_params['C'],gamma=best_params['gamma'])"
   ]
  },
  {
   "cell_type": "code",
   "execution_count": null,
   "id": "668f00e8-87bc-44f6-9247-fbaf32236d87",
   "metadata": {},
   "outputs": [],
   "source": [
    "model.fit(X_train,y_train)"
   ]
  },
  {
   "cell_type": "code",
   "execution_count": null,
   "id": "5334a978-4842-4e32-bb3b-48ec5e21637b",
   "metadata": {},
   "outputs": [],
   "source": [
    "model.score(X_train,y_train)"
   ]
  },
  {
   "cell_type": "code",
   "execution_count": null,
   "id": "a9c26385-2ccb-4aba-8ef7-dfbf82403a83",
   "metadata": {},
   "outputs": [],
   "source": [
    "model.score(X_test,y_test)"
   ]
  },
  {
   "cell_type": "code",
   "execution_count": null,
   "id": "58567429-5525-46ce-924c-60b39cfa6aab",
   "metadata": {},
   "outputs": [],
   "source": [
    "test=pd.read_csv('test.csv')\n",
    "test=test.set_index('id')\n",
    "test=test.drop(['location','keyword'],axis=1)\n",
    "test_vec=vectorizer.transform(test.text.values)\n",
    "y_pred=model.predict(test_vec)\n",
    "result=pd.DataFrame(zip(test.index.tolist(),y_pred),columns=['id','target'])\n",
    "result.to_csv('submission.csv',index=False)"
   ]
  }
 ],
 "metadata": {
  "kernelspec": {
   "display_name": "Python 3 (ipykernel)",
   "language": "python",
   "name": "python3"
  },
  "language_info": {
   "codemirror_mode": {
    "name": "ipython",
    "version": 3
   },
   "file_extension": ".py",
   "mimetype": "text/x-python",
   "name": "python",
   "nbconvert_exporter": "python",
   "pygments_lexer": "ipython3",
   "version": "3.9.18"
  }
 },
 "nbformat": 4,
 "nbformat_minor": 5
}
