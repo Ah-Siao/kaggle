{
 "cells": [
  {
   "cell_type": "code",
   "execution_count": 28,
   "id": "e297ab63-b22b-44be-98ba-adf0fdc0acbb",
   "metadata": {},
   "outputs": [],
   "source": [
    "import pandas as pd\n",
    "import numpy as np\n",
    "from sklearn.model_selection import train_test_split\n",
    "import xgboost as xgb\n",
    "import matplotlib.pyplot as plt\n",
    "import seaborn as sns\n",
    "from sklearn.metrics import accuracy_score, recall_score,precision_score, f1_score\n",
    "import optuna"
   ]
  },
  {
   "cell_type": "code",
   "execution_count": 29,
   "id": "81400223-2558-47e5-a096-993fc415a05a",
   "metadata": {},
   "outputs": [],
   "source": [
    "train=pd.read_csv('train.csv')"
   ]
  },
  {
   "cell_type": "code",
   "execution_count": 30,
   "id": "b5fcfa49-69f8-4a7b-8df0-d4feaef044e7",
   "metadata": {},
   "outputs": [],
   "source": [
    "train.NObeyesdad=train.NObeyesdad.map({'Insufficient_Weight':0, 'Normal_Weight':1,'Overweight_Level_I':2,'Overweight_Level_II':3,'Obesity_Type_I':4,'Obesity_Type_II':5,'Obesity_Type_III':6})"
   ]
  },
  {
   "cell_type": "code",
   "execution_count": 31,
   "id": "9230101d-4346-4dcd-afd0-ea355ec1451a",
   "metadata": {},
   "outputs": [],
   "source": [
    "categorical_train=train.select_dtypes('O')\n",
    "numeric_train=train.drop(categorical_train.columns.tolist()+['id']+['NObeyesdad'],axis=1)"
   ]
  },
  {
   "cell_type": "code",
   "execution_count": 32,
   "id": "1b629268-f8c1-4357-a23b-a3fa62870e3c",
   "metadata": {},
   "outputs": [],
   "source": [
    "categorical_train.SCC=categorical_train.SCC.map({'yes':1,'no':0})\n",
    "categorical_train.SMOKE=categorical_train.SMOKE.map({'yes':1,'no':0})\n",
    "categorical_train.FAVC=categorical_train.FAVC.map({'yes':1,'no':0})\n",
    "categorical_train.family_history_with_overweight=categorical_train.family_history_with_overweight.map({'yes':1,'no':0})\n",
    "categorical_train.Gender=categorical_train.Gender.map({'Male':0,'Female':1})\n",
    "categorical_train.CAEC=categorical_train.CAEC.map({'no':0,'Sometimes':1,'Frequently':2,'Always':3})\n",
    "categorical_train.CALC=categorical_train.CALC.map({'no':0,'Sometimes':1,'Frequently':2})"
   ]
  },
  {
   "cell_type": "code",
   "execution_count": 33,
   "id": "cab92ce2-d308-41ce-bfc0-b3a55bf61e49",
   "metadata": {},
   "outputs": [],
   "source": [
    "cat_MRTANS=pd.get_dummies(categorical_train.MTRANS,drop_first=True,dtype='float')\n",
    "categorical_train=categorical_train.drop('MTRANS',axis=1)\n",
    "categorical_train=pd.concat([categorical_train,cat_MRTANS],axis=1)"
   ]
  },
  {
   "cell_type": "code",
   "execution_count": 34,
   "id": "61a80702-5f08-4dd1-9396-48babce32cd8",
   "metadata": {},
   "outputs": [],
   "source": [
    "# try input all the data\n",
    "df=pd.concat([numeric_train,categorical_train,train.NObeyesdad],axis=1)\n",
    "X=df.drop('NObeyesdad',axis=1).values\n",
    "y=df.NObeyesdad.values"
   ]
  },
  {
   "cell_type": "code",
   "execution_count": 39,
   "id": "a0fb2db7-5a71-4e20-ae98-070239f4dfb4",
   "metadata": {},
   "outputs": [],
   "source": [
    "X_train, X_test, y_train, y_test = train_test_split(X, y, test_size=0.3, random_state=42)"
   ]
  },
  {
   "cell_type": "code",
   "execution_count": 45,
   "id": "1d69be09-f49c-406d-825e-1470ea5cf92e",
   "metadata": {},
   "outputs": [],
   "source": [
    "def objective(trial):\n",
    "    \"\"\"Define the objective function\"\"\"\n",
    "\n",
    "    params = {\n",
    "        'max_depth': trial.suggest_int('max_depth', 1, 9),\n",
    "        'learning_rate': trial.suggest_float('learning_rate', 0.01, 1.0,log=True),\n",
    "        'n_estimators': trial.suggest_int('n_estimators', 50, 500),\n",
    "        'min_child_weight': trial.suggest_int('min_child_weight', 1, 10),\n",
    "        'gamma': trial.suggest_float('gamma', 1e-8, 1.0,log=True),\n",
    "        'subsample': trial.suggest_float('subsample', 0.01, 1.0,log=True),\n",
    "        'colsample_bytree': trial.suggest_float('colsample_bytree', 0.01, 1.0,log=True),\n",
    "        'reg_alpha': trial.suggest_float('reg_alpha', 1e-8, 1.0,log=True),\n",
    "        'reg_lambda': trial.suggest_float('reg_lambda', 1e-8, 1.0,log=True),\n",
    "        'eval_metric': 'mlogloss',\n",
    "        'use_label_encoder': False\n",
    "    }\n",
    "\n",
    "    # Fit the model\n",
    "    optuna_model = xgb.XGBClassifier(**params)\n",
    "    optuna_model.fit(X_train, y_train)\n",
    "\n",
    "    # Make predictions\n",
    "    y_pred = optuna_model.predict(X_test)\n",
    "\n",
    "    # Evaluate predictions\n",
    "    accuracy = accuracy_score(y_test, y_pred)\n",
    "    return accuracy"
   ]
  },
  {
   "cell_type": "code",
   "execution_count": 46,
   "id": "943c0a5e-f5a6-4280-89dc-2a79236dce61",
   "metadata": {},
   "outputs": [
    {
     "name": "stderr",
     "output_type": "stream",
     "text": [
      "[I 2024-02-05 22:16:27,119] A new study created in memory with name: no-name-cdaaaaba-8ea4-4866-bc91-b56c34f5eda0\n",
      "[I 2024-02-05 22:16:30,263] Trial 0 finished with value: 0.8701027617212588 and parameters: {'max_depth': 9, 'learning_rate': 0.3037548928493046, 'n_estimators': 473, 'min_child_weight': 7, 'gamma': 3.0920467361931185e-07, 'subsample': 0.08803818809740105, 'colsample_bytree': 0.019093184801518528, 'reg_alpha': 1.6305254777554773e-08, 'reg_lambda': 5.827539547920008e-06}. Best is trial 0 with value: 0.8701027617212588.\n",
      "[I 2024-02-05 22:16:33,173] Trial 1 finished with value: 0.8537251123956326 and parameters: {'max_depth': 4, 'learning_rate': 0.021421162821674927, 'n_estimators': 325, 'min_child_weight': 2, 'gamma': 9.461580682226961e-05, 'subsample': 0.023822191998824533, 'colsample_bytree': 0.20979891814839438, 'reg_alpha': 8.988297418454066e-06, 'reg_lambda': 0.000566525061723685}. Best is trial 0 with value: 0.8701027617212588.\n",
      "[I 2024-02-05 22:16:35,388] Trial 2 finished with value: 0.7862877328195247 and parameters: {'max_depth': 5, 'learning_rate': 0.031827447548925476, 'n_estimators': 337, 'min_child_weight': 3, 'gamma': 2.8891822663046723e-06, 'subsample': 0.015365264663258136, 'colsample_bytree': 0.010092239988848645, 'reg_alpha': 0.000920386145664618, 'reg_lambda': 0.3467212731823434}. Best is trial 0 with value: 0.8701027617212588.\n",
      "[I 2024-02-05 22:16:36,894] Trial 3 finished with value: 0.8482658959537572 and parameters: {'max_depth': 2, 'learning_rate': 0.7343768775639069, 'n_estimators': 312, 'min_child_weight': 3, 'gamma': 6.765023042670131e-05, 'subsample': 0.03958819908114455, 'colsample_bytree': 0.07996315743030405, 'reg_alpha': 0.0007955922866583656, 'reg_lambda': 5.291979737830724e-07}. Best is trial 0 with value: 0.8701027617212588.\n",
      "[I 2024-02-05 22:16:40,410] Trial 4 finished with value: 0.9047848426461144 and parameters: {'max_depth': 4, 'learning_rate': 0.045303065734425794, 'n_estimators': 373, 'min_child_weight': 8, 'gamma': 1.1787858874108236e-05, 'subsample': 0.640045819489975, 'colsample_bytree': 0.3713021692513898, 'reg_alpha': 2.503370660603248e-07, 'reg_lambda': 9.324954343411933e-05}. Best is trial 4 with value: 0.9047848426461144.\n",
      "[I 2024-02-05 22:16:42,886] Trial 5 finished with value: 0.7556197816313424 and parameters: {'max_depth': 6, 'learning_rate': 0.01439680801707277, 'n_estimators': 298, 'min_child_weight': 5, 'gamma': 4.232983426075446e-08, 'subsample': 0.33133277293605823, 'colsample_bytree': 0.06265686704886574, 'reg_alpha': 0.03860835049552776, 'reg_lambda': 3.761390730292466e-05}. Best is trial 4 with value: 0.9047848426461144.\n",
      "[I 2024-02-05 22:16:45,207] Trial 6 finished with value: 0.8519588953114965 and parameters: {'max_depth': 8, 'learning_rate': 0.585110082486599, 'n_estimators': 435, 'min_child_weight': 8, 'gamma': 0.00029345900583720413, 'subsample': 0.028935783039642882, 'colsample_bytree': 0.11897112846775774, 'reg_alpha': 2.3104642925922588e-05, 'reg_lambda': 2.0094970475031117e-06}. Best is trial 4 with value: 0.9047848426461144.\n",
      "[I 2024-02-05 22:16:48,853] Trial 7 finished with value: 0.8819845857418112 and parameters: {'max_depth': 4, 'learning_rate': 0.02853209602924344, 'n_estimators': 374, 'min_child_weight': 9, 'gamma': 0.061547924391684126, 'subsample': 0.2370961707170967, 'colsample_bytree': 0.2503238905760534, 'reg_alpha': 2.7579146081305106e-07, 'reg_lambda': 2.3366596829167464e-08}. Best is trial 4 with value: 0.9047848426461144.\n",
      "[I 2024-02-05 22:16:50,328] Trial 8 finished with value: 0.8580603725112396 and parameters: {'max_depth': 5, 'learning_rate': 0.8037767228373799, 'n_estimators': 249, 'min_child_weight': 10, 'gamma': 2.8323501830606607e-06, 'subsample': 0.038134180766459476, 'colsample_bytree': 0.680060338490188, 'reg_alpha': 3.9935646106630684e-05, 'reg_lambda': 1.0155736018116068e-08}. Best is trial 4 with value: 0.9047848426461144.\n",
      "[I 2024-02-05 22:16:53,073] Trial 9 finished with value: 0.8623956326268465 and parameters: {'max_depth': 7, 'learning_rate': 0.19607305995834745, 'n_estimators': 305, 'min_child_weight': 10, 'gamma': 3.7898063970595736e-05, 'subsample': 0.9314383425295774, 'colsample_bytree': 0.035258691989507, 'reg_alpha': 4.135384651593884e-05, 'reg_lambda': 2.2325699351071547e-06}. Best is trial 4 with value: 0.9047848426461144.\n"
     ]
    },
    {
     "name": "stdout",
     "output_type": "stream",
     "text": [
      "Number of finished trials: 10\n",
      "Best trial parameters: {'max_depth': 4, 'learning_rate': 0.045303065734425794, 'n_estimators': 373, 'min_child_weight': 8, 'gamma': 1.1787858874108236e-05, 'subsample': 0.640045819489975, 'colsample_bytree': 0.3713021692513898, 'reg_alpha': 2.503370660603248e-07, 'reg_lambda': 9.324954343411933e-05}\n",
      "Best score: 0.9047848426461144\n"
     ]
    }
   ],
   "source": [
    "study = optuna.create_study(direction='maximize')\n",
    "study.optimize(objective, n_trials=10)\n",
    "\n",
    "# Showing optimization results\n",
    "print('Number of finished trials:', len(study.trials))\n",
    "print('Best trial parameters:', study.best_trial.params)\n",
    "print('Best score:', study.best_value)"
   ]
  },
  {
   "cell_type": "code",
   "execution_count": 52,
   "id": "9e00c123-75e3-4291-bd4c-fd6c2b213f6e",
   "metadata": {},
   "outputs": [],
   "source": [
    "# run n_trial=100 in colab, and obtain the following paramters: \n",
    "xgbc_model=xgb.XGBClassifier(max_depth=5, learning_rate= 0.1, n_estimators=150, min_child_weight=8, gamma= 0.056, subsample= 0.376, colsample_bytree=0.885, reg_alpha=0.0037,reg_lambda= 0.013)"
   ]
  },
  {
   "cell_type": "code",
   "execution_count": 66,
   "id": "7080d960-ab3d-45dd-8510-fe7b44b55781",
   "metadata": {},
   "outputs": [
    {
     "data": {
      "text/html": [
       "<style>#sk-container-id-3 {color: black;}#sk-container-id-3 pre{padding: 0;}#sk-container-id-3 div.sk-toggleable {background-color: white;}#sk-container-id-3 label.sk-toggleable__label {cursor: pointer;display: block;width: 100%;margin-bottom: 0;padding: 0.3em;box-sizing: border-box;text-align: center;}#sk-container-id-3 label.sk-toggleable__label-arrow:before {content: \"▸\";float: left;margin-right: 0.25em;color: #696969;}#sk-container-id-3 label.sk-toggleable__label-arrow:hover:before {color: black;}#sk-container-id-3 div.sk-estimator:hover label.sk-toggleable__label-arrow:before {color: black;}#sk-container-id-3 div.sk-toggleable__content {max-height: 0;max-width: 0;overflow: hidden;text-align: left;background-color: #f0f8ff;}#sk-container-id-3 div.sk-toggleable__content pre {margin: 0.2em;color: black;border-radius: 0.25em;background-color: #f0f8ff;}#sk-container-id-3 input.sk-toggleable__control:checked~div.sk-toggleable__content {max-height: 200px;max-width: 100%;overflow: auto;}#sk-container-id-3 input.sk-toggleable__control:checked~label.sk-toggleable__label-arrow:before {content: \"▾\";}#sk-container-id-3 div.sk-estimator input.sk-toggleable__control:checked~label.sk-toggleable__label {background-color: #d4ebff;}#sk-container-id-3 div.sk-label input.sk-toggleable__control:checked~label.sk-toggleable__label {background-color: #d4ebff;}#sk-container-id-3 input.sk-hidden--visually {border: 0;clip: rect(1px 1px 1px 1px);clip: rect(1px, 1px, 1px, 1px);height: 1px;margin: -1px;overflow: hidden;padding: 0;position: absolute;width: 1px;}#sk-container-id-3 div.sk-estimator {font-family: monospace;background-color: #f0f8ff;border: 1px dotted black;border-radius: 0.25em;box-sizing: border-box;margin-bottom: 0.5em;}#sk-container-id-3 div.sk-estimator:hover {background-color: #d4ebff;}#sk-container-id-3 div.sk-parallel-item::after {content: \"\";width: 100%;border-bottom: 1px solid gray;flex-grow: 1;}#sk-container-id-3 div.sk-label:hover label.sk-toggleable__label {background-color: #d4ebff;}#sk-container-id-3 div.sk-serial::before {content: \"\";position: absolute;border-left: 1px solid gray;box-sizing: border-box;top: 0;bottom: 0;left: 50%;z-index: 0;}#sk-container-id-3 div.sk-serial {display: flex;flex-direction: column;align-items: center;background-color: white;padding-right: 0.2em;padding-left: 0.2em;position: relative;}#sk-container-id-3 div.sk-item {position: relative;z-index: 1;}#sk-container-id-3 div.sk-parallel {display: flex;align-items: stretch;justify-content: center;background-color: white;position: relative;}#sk-container-id-3 div.sk-item::before, #sk-container-id-3 div.sk-parallel-item::before {content: \"\";position: absolute;border-left: 1px solid gray;box-sizing: border-box;top: 0;bottom: 0;left: 50%;z-index: -1;}#sk-container-id-3 div.sk-parallel-item {display: flex;flex-direction: column;z-index: 1;position: relative;background-color: white;}#sk-container-id-3 div.sk-parallel-item:first-child::after {align-self: flex-end;width: 50%;}#sk-container-id-3 div.sk-parallel-item:last-child::after {align-self: flex-start;width: 50%;}#sk-container-id-3 div.sk-parallel-item:only-child::after {width: 0;}#sk-container-id-3 div.sk-dashed-wrapped {border: 1px dashed gray;margin: 0 0.4em 0.5em 0.4em;box-sizing: border-box;padding-bottom: 0.4em;background-color: white;}#sk-container-id-3 div.sk-label label {font-family: monospace;font-weight: bold;display: inline-block;line-height: 1.2em;}#sk-container-id-3 div.sk-label-container {text-align: center;}#sk-container-id-3 div.sk-container {/* jupyter's `normalize.less` sets `[hidden] { display: none; }` but bootstrap.min.css set `[hidden] { display: none !important; }` so we also need the `!important` here to be able to override the default hidden behavior on the sphinx rendered scikit-learn.org. See: https://github.com/scikit-learn/scikit-learn/issues/21755 */display: inline-block !important;position: relative;}#sk-container-id-3 div.sk-text-repr-fallback {display: none;}</style><div id=\"sk-container-id-3\" class=\"sk-top-container\"><div class=\"sk-text-repr-fallback\"><pre>XGBClassifier(base_score=None, booster=None, callbacks=None,\n",
       "              colsample_bylevel=None, colsample_bynode=None,\n",
       "              colsample_bytree=0.885, device=None, early_stopping_rounds=None,\n",
       "              enable_categorical=False, eval_metric=None, feature_types=None,\n",
       "              gamma=0.011813774582264885, grow_policy=None,\n",
       "              importance_type=None, interaction_constraints=None,\n",
       "              learning_rate=0.017294810533517575, max_bin=None,\n",
       "              max_cat_threshold=None, max_cat_to_onehot=None,\n",
       "              max_delta_step=None, max_depth=9, max_leaves=None,\n",
       "              min_child_weight=6, missing=nan, monotone_constraints=None,\n",
       "              multi_strategy=None, n_estimators=412, n_jobs=None,\n",
       "              num_parallel_tree=None, objective=&#x27;multi:softprob&#x27;, ...)</pre><b>In a Jupyter environment, please rerun this cell to show the HTML representation or trust the notebook. <br />On GitHub, the HTML representation is unable to render, please try loading this page with nbviewer.org.</b></div><div class=\"sk-container\" hidden><div class=\"sk-item\"><div class=\"sk-estimator sk-toggleable\"><input class=\"sk-toggleable__control sk-hidden--visually\" id=\"sk-estimator-id-3\" type=\"checkbox\" checked><label for=\"sk-estimator-id-3\" class=\"sk-toggleable__label sk-toggleable__label-arrow\">XGBClassifier</label><div class=\"sk-toggleable__content\"><pre>XGBClassifier(base_score=None, booster=None, callbacks=None,\n",
       "              colsample_bylevel=None, colsample_bynode=None,\n",
       "              colsample_bytree=0.885, device=None, early_stopping_rounds=None,\n",
       "              enable_categorical=False, eval_metric=None, feature_types=None,\n",
       "              gamma=0.011813774582264885, grow_policy=None,\n",
       "              importance_type=None, interaction_constraints=None,\n",
       "              learning_rate=0.017294810533517575, max_bin=None,\n",
       "              max_cat_threshold=None, max_cat_to_onehot=None,\n",
       "              max_delta_step=None, max_depth=9, max_leaves=None,\n",
       "              min_child_weight=6, missing=nan, monotone_constraints=None,\n",
       "              multi_strategy=None, n_estimators=412, n_jobs=None,\n",
       "              num_parallel_tree=None, objective=&#x27;multi:softprob&#x27;, ...)</pre></div></div></div></div></div>"
      ],
      "text/plain": [
       "XGBClassifier(base_score=None, booster=None, callbacks=None,\n",
       "              colsample_bylevel=None, colsample_bynode=None,\n",
       "              colsample_bytree=0.885, device=None, early_stopping_rounds=None,\n",
       "              enable_categorical=False, eval_metric=None, feature_types=None,\n",
       "              gamma=0.011813774582264885, grow_policy=None,\n",
       "              importance_type=None, interaction_constraints=None,\n",
       "              learning_rate=0.017294810533517575, max_bin=None,\n",
       "              max_cat_threshold=None, max_cat_to_onehot=None,\n",
       "              max_delta_step=None, max_depth=9, max_leaves=None,\n",
       "              min_child_weight=6, missing=nan, monotone_constraints=None,\n",
       "              multi_strategy=None, n_estimators=412, n_jobs=None,\n",
       "              num_parallel_tree=None, objective='multi:softprob', ...)"
      ]
     },
     "execution_count": 66,
     "metadata": {},
     "output_type": "execute_result"
    }
   ],
   "source": [
    "xgbc_model.fit(X_train,y_train)"
   ]
  },
  {
   "cell_type": "code",
   "execution_count": 54,
   "id": "5a47909e-fd7f-45a9-9066-6c85981e390d",
   "metadata": {},
   "outputs": [
    {
     "data": {
      "text/plain": [
       "0.9313833448038541"
      ]
     },
     "execution_count": 54,
     "metadata": {},
     "output_type": "execute_result"
    }
   ],
   "source": [
    "xgbc_model.score(X_train,y_train)"
   ]
  },
  {
   "cell_type": "code",
   "execution_count": 55,
   "id": "7aecf01f-5ab9-447a-b101-379ab0d96686",
   "metadata": {},
   "outputs": [
    {
     "data": {
      "text/plain": [
       "0.9070327552986512"
      ]
     },
     "execution_count": 55,
     "metadata": {},
     "output_type": "execute_result"
    }
   ],
   "source": [
    "xgbc_model.score(X_test,y_test)"
   ]
  },
  {
   "cell_type": "code",
   "execution_count": 56,
   "id": "02d6688a-d8b0-43fd-aee6-8ef8e5376d20",
   "metadata": {},
   "outputs": [],
   "source": [
    "test=pd.read_csv('test.csv')\n",
    "id_series=test.id\n",
    "test.SCC=test.SCC.map({'yes':1,'no':0})\n",
    "test.SMOKE=test.SMOKE.map({'yes':1,'no':0})\n",
    "test.FAVC=test.FAVC.map({'yes':1,'no':0})\n",
    "test.family_history_with_overweight=test.family_history_with_overweight.map({'yes':1,'no':0})\n",
    "test.Gender=test.Gender.map({'Male':0,'Female':1})\n",
    "test.CAEC=test.CAEC.map({'no':0,'Sometimes':1,'Frequently':2,'Always':3})\n",
    "test.CALC=test.CALC.map({'no':0,'Sometimes':1,'Frequently':2})\n",
    "cat_test_MRTANS=pd.get_dummies(test.MTRANS,drop_first=True,dtype=float)\n",
    "test=test.drop('MTRANS',axis=1)\n",
    "test=pd.concat([test,cat_test_MRTANS],axis=1)\n",
    "test=test.drop('id',axis=1)"
   ]
  },
  {
   "cell_type": "code",
   "execution_count": 57,
   "id": "6fccff8c-8b53-4d0a-ba79-ff88eaf8a275",
   "metadata": {},
   "outputs": [],
   "source": [
    "input_order=df.columns.tolist()[:-1]"
   ]
  },
  {
   "cell_type": "code",
   "execution_count": 58,
   "id": "5adffd7f-a93c-4e92-a73f-d881f7706323",
   "metadata": {},
   "outputs": [],
   "source": [
    "test=test[input_order]"
   ]
  },
  {
   "cell_type": "code",
   "execution_count": 59,
   "id": "06c78577-2b36-4912-8f92-e2ec9dcd308e",
   "metadata": {},
   "outputs": [],
   "source": [
    "y_pred_test=xgbc_model.predict(test.values)"
   ]
  },
  {
   "cell_type": "code",
   "execution_count": 60,
   "id": "b3cb5341-6e41-40d0-8939-96cb3600d1d1",
   "metadata": {},
   "outputs": [],
   "source": [
    "result=pd.concat([id_series,pd.Series(y_pred_test)],axis=1)"
   ]
  },
  {
   "cell_type": "code",
   "execution_count": 61,
   "id": "417a4d97-5fb3-4259-a5cb-00e41dc0744b",
   "metadata": {},
   "outputs": [],
   "source": [
    "ori={'Insufficient_Weight':0, 'Normal_Weight':1,'Overweight_Level_I':2,'Overweight_Level_II':3,'Obesity_Type_I':4,'Obesity_Type_II':5,'Obesity_Type_III':6}\n",
    "rev={value:key for key, value in ori.items()}"
   ]
  },
  {
   "cell_type": "code",
   "execution_count": 62,
   "id": "f6717750-b749-402a-8520-f8f427eb7519",
   "metadata": {},
   "outputs": [],
   "source": [
    "result.columns=['id','NObeyesdad']"
   ]
  },
  {
   "cell_type": "code",
   "execution_count": 63,
   "id": "c77e85a7-09b1-47bf-898a-1a0f9e8fe1e2",
   "metadata": {},
   "outputs": [],
   "source": [
    "result.NObeyesdad=result.NObeyesdad.map(rev)"
   ]
  },
  {
   "cell_type": "code",
   "execution_count": 64,
   "id": "99731f8e-e567-4a69-a98c-7fb50efd0e45",
   "metadata": {},
   "outputs": [],
   "source": [
    "result.to_csv('result.csv',index=False)"
   ]
  },
  {
   "cell_type": "code",
   "execution_count": null,
   "id": "deea1777-9245-4e2a-aa7f-0ad4bdb29932",
   "metadata": {},
   "outputs": [],
   "source": []
  }
 ],
 "metadata": {
  "kernelspec": {
   "display_name": "Python 3 (ipykernel)",
   "language": "python",
   "name": "python3"
  },
  "language_info": {
   "codemirror_mode": {
    "name": "ipython",
    "version": 3
   },
   "file_extension": ".py",
   "mimetype": "text/x-python",
   "name": "python",
   "nbconvert_exporter": "python",
   "pygments_lexer": "ipython3",
   "version": "3.9.18"
  }
 },
 "nbformat": 4,
 "nbformat_minor": 5
}
