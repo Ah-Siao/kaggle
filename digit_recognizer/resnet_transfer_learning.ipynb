{
 "cells": [
  {
   "cell_type": "code",
   "execution_count": 79,
   "id": "2883ec53-27bc-4bd5-842f-16f12a0c3a9a",
   "metadata": {},
   "outputs": [],
   "source": [
    "import pandas as pd\n",
    "import matplotlib.pyplot as plt\n",
    "import seaborn as sns\n",
    "import tensorflow as tf\n",
    "from sklearn.model_selection import train_test_split\n",
    "import numpy as np\n",
    "import tensorflow_hub as hub\n",
    "from tensorflow.keras.utils import to_categorical \n",
    "from sklearn.metrics import accuracy_score, confusion_matrix"
   ]
  },
  {
   "cell_type": "code",
   "execution_count": 45,
   "id": "83f4aefd-3f24-4ebb-8aa2-2db994218713",
   "metadata": {},
   "outputs": [],
   "source": [
    "train=pd.read_csv('train.csv')"
   ]
  },
  {
   "cell_type": "code",
   "execution_count": 46,
   "id": "9b9f4e73-9972-4e36-9eed-328d0226ae3e",
   "metadata": {},
   "outputs": [],
   "source": [
    "X=train.drop('label',axis=1).values.reshape(len(train),28,28,1)/255.\n",
    "y=train.label.values"
   ]
  },
  {
   "cell_type": "code",
   "execution_count": 71,
   "id": "224f0e6d-9e43-4833-bd71-63deff5d3d25",
   "metadata": {},
   "outputs": [],
   "source": [
    "# check data distribution (it looks like the label is uniformly distributed)\n",
    "value,count_num=np.unique(y,return_counts=True)"
   ]
  },
  {
   "cell_type": "code",
   "execution_count": 76,
   "id": "b516d4de-f8f8-45c0-8fa7-93f64a9701ad",
   "metadata": {},
   "outputs": [
    {
     "data": {
      "image/png": "[encoded data removed]",
      "text/plain": [
       "<Figure size 640x480 with 1 Axes>"
      ]
     },
     "metadata": {},
     "output_type": "display_data"
    }
   ],
   "source": [
    "plt.bar(x=value,height=count_num)\n",
    "plt.xticks(np.arange(min(value), max(value)+1, 1.0))\n",
    "plt.show()"
   ]
  },
  {
   "cell_type": "code",
   "execution_count": 47,
   "id": "39e1f030-f634-49e2-b39c-d83662bb09ea",
   "metadata": {},
   "outputs": [
    {
     "data": {
      "image/png": "[encoded data removed]",
      "text/plain": [
       "<Figure size 640x480 with 10 Axes>"
      ]
     },
     "metadata": {},
     "output_type": "display_data"
    }
   ],
   "source": [
    "k=1\n",
    "while k<11:\n",
    "    plt.subplot(2,5,k)\n",
    "    plt.imshow(X[k-1],cmap='grey')\n",
    "    plt.title(y[k-1])\n",
    "    plt.axis('off')\n",
    "    k+=1"
   ]
  },
  {
   "cell_type": "code",
   "execution_count": 48,
   "id": "65b56479-14fa-42a9-b44d-38aead9d372b",
   "metadata": {},
   "outputs": [],
   "source": [
    "X_train, X_valid, y_train, y_valid = train_test_split(X, y, test_size=0.3, random_state=42)"
   ]
  },
  {
   "cell_type": "code",
   "execution_count": 49,
   "id": "473ed6d6-7960-4b62-8bf2-151056b155a7",
   "metadata": {},
   "outputs": [],
   "source": [
    "X_train=X_train.repeat(3,-1)\n",
    "X_train=tf.convert_to_tensor(X_train)\n",
    "X_valid=X_valid.repeat(3,-1)\n",
    "X_valid=tf.convert_to_tensor(X_valid)\n",
    "y_train=to_categorical(y_train)\n",
    "y_valid=to_categorical(y_valid)"
   ]
  },
  {
   "cell_type": "code",
   "execution_count": 50,
   "id": "037f1047-b343-46ff-8477-f568aa7caef1",
   "metadata": {},
   "outputs": [],
   "source": [
    "# Feature extraction (freeze all the layers)\n",
    "base_model=tf.keras.applications.resnet50.ResNet50(include_top=False)\n",
    "base_model.trainable=False\n",
    "inputs=tf.keras.layers.Input(shape=(28,28,3),name='input_layer')\n",
    "x=base_model(inputs)\n",
    "x=tf.keras.layers.GlobalAveragePooling2D(name='global_average_pooling_2D')(x)\n",
    "outputs=tf.keras.layers.Dense(10,activation='softmax')(x)\n",
    "model_0=tf.keras.Model(inputs,outputs)"
   ]
  },
  {
   "cell_type": "code",
   "execution_count": 51,
   "id": "1a1563d7-1c12-430c-b5e6-9f0b2818b0c7",
   "metadata": {},
   "outputs": [],
   "source": [
    "model_0.compile(loss='categorical_crossentropy',optimizer=tf.keras.optimizers.Adam(),metrics=['accuracy'])"
   ]
  },
  {
   "cell_type": "code",
   "execution_count": 52,
   "id": "228f1915-45f4-4fe2-938a-7ed9404dafb8",
   "metadata": {},
   "outputs": [
    {
     "name": "stdout",
     "output_type": "stream",
     "text": [
      "Model: \"model_1\"\n",
      "_________________________________________________________________\n",
      "Layer (type)                 Output Shape              Param #   \n",
      "=================================================================\n",
      "input_layer (InputLayer)     [(None, 28, 28, 3)]       0         \n",
      "_________________________________________________________________\n",
      "resnet50 (Functional)        (None, None, None, 2048)  23587712  \n",
      "_________________________________________________________________\n",
      "global_average_pooling_2D (G (None, 2048)              0         \n",
      "_________________________________________________________________\n",
      "dense_1 (Dense)              (None, 10)                20490     \n",
      "=================================================================\n",
      "Total params: 23,608,202\n",
      "Trainable params: 20,490\n",
      "Non-trainable params: 23,587,712\n",
      "_________________________________________________________________\n"
     ]
    }
   ],
   "source": [
    "model_0.summary()"
   ]
  },
  {
   "cell_type": "code",
   "execution_count": 53,
   "id": "9c1630a7-9ff2-4093-b232-c9cceffc92d8",
   "metadata": {},
   "outputs": [],
   "source": [
    "earlystop=tf.keras.callbacks.EarlyStopping(monitor='val_loss',patience=5)"
   ]
  },
  {
   "cell_type": "code",
   "execution_count": 54,
   "id": "ded2e2fd-06a8-4032-abd1-66900fdc9f3a",
   "metadata": {},
   "outputs": [
    {
     "name": "stdout",
     "output_type": "stream",
     "text": [
      "Epoch 1/10\n",
      "919/919 [==============================] - 13s 13ms/step - loss: 1.1239 - accuracy: 0.7096 - val_loss: 0.7381 - val_accuracy: 0.8050\n",
      "Epoch 2/10\n",
      "919/919 [==============================] - 10s 11ms/step - loss: 0.6485 - accuracy: 0.8228 - val_loss: 0.5795 - val_accuracy: 0.8368\n",
      "Epoch 3/10\n",
      "919/919 [==============================] - 10s 11ms/step - loss: 0.5348 - accuracy: 0.8501 - val_loss: 0.5027 - val_accuracy: 0.8537\n",
      "Epoch 4/10\n",
      "919/919 [==============================] - 10s 11ms/step - loss: 0.4727 - accuracy: 0.8638 - val_loss: 0.4541 - val_accuracy: 0.8677\n",
      "Epoch 5/10\n",
      "919/919 [==============================] - 10s 11ms/step - loss: 0.4318 - accuracy: 0.8751 - val_loss: 0.4222 - val_accuracy: 0.8725\n",
      "Epoch 6/10\n",
      "919/919 [==============================] - 10s 11ms/step - loss: 0.4026 - accuracy: 0.8839 - val_loss: 0.3936 - val_accuracy: 0.8835\n",
      "Epoch 7/10\n",
      "919/919 [==============================] - 10s 11ms/step - loss: 0.3788 - accuracy: 0.8902 - val_loss: 0.3731 - val_accuracy: 0.8871\n",
      "Epoch 8/10\n",
      "919/919 [==============================] - 10s 11ms/step - loss: 0.3606 - accuracy: 0.8932 - val_loss: 0.3590 - val_accuracy: 0.8930\n",
      "Epoch 9/10\n",
      "919/919 [==============================] - 10s 11ms/step - loss: 0.3457 - accuracy: 0.8979 - val_loss: 0.3461 - val_accuracy: 0.8962\n",
      "Epoch 10/10\n",
      "919/919 [==============================] - 10s 11ms/step - loss: 0.3335 - accuracy: 0.9023 - val_loss: 0.3308 - val_accuracy: 0.8995\n"
     ]
    },
    {
     "data": {
      "text/plain": [
       "<keras.callbacks.History at 0x1d625ace7c0>"
      ]
     },
     "execution_count": 54,
     "metadata": {},
     "output_type": "execute_result"
    }
   ],
   "source": [
    "model_0.fit(x=X_train,y=y_train,validation_data=(X_valid,y_valid),epochs=10,callbacks=[earlystop])"
   ]
  },
  {
   "cell_type": "code",
   "execution_count": 55,
   "id": "37c4886d-110a-42e0-a9e5-7b0cf2ac8cd9",
   "metadata": {},
   "outputs": [
    {
     "data": {
      "text/plain": [
       "[<keras.engine.input_layer.InputLayer at 0x1d625912f40>,\n",
       " <keras.engine.functional.Functional at 0x1d62590b730>,\n",
       " <keras.layers.pooling.GlobalAveragePooling2D at 0x1d6258c19d0>,\n",
       " <keras.layers.core.Dense at 0x1d8a30d1af0>]"
      ]
     },
     "execution_count": 55,
     "metadata": {},
     "output_type": "execute_result"
    }
   ],
   "source": [
    "# fine tuning\n",
    "model_0.layers"
   ]
  },
  {
   "cell_type": "code",
   "execution_count": 56,
   "id": "753fbcf0-096c-493f-a6b4-1a1d30bc4630",
   "metadata": {},
   "outputs": [],
   "source": [
    "model_0.layers[1].trainable=False\n",
    "for layer in model_0.layers[1].layers[-10:]:\n",
    "    layer.trainable=True"
   ]
  },
  {
   "cell_type": "code",
   "execution_count": 57,
   "id": "ec0cbaf6-8890-46eb-94d0-9e523b5eb799",
   "metadata": {},
   "outputs": [
    {
     "name": "stdout",
     "output_type": "stream",
     "text": [
      "<keras.engine.input_layer.InputLayer object at 0x000001D610E41CA0> False\n",
      "<keras.layers.convolutional.ZeroPadding2D object at 0x000001D8AFBB89A0> False\n",
      "<keras.layers.convolutional.Conv2D object at 0x000001D8A30A67C0> False\n",
      "<keras.layers.normalization.batch_normalization.BatchNormalization object at 0x000001D8A30DFC10> False\n",
      "<keras.layers.core.Activation object at 0x000001D8A30C7E50> False\n",
      "<keras.layers.convolutional.ZeroPadding2D object at 0x000001D8A30C7F10> False\n",
      "<keras.layers.pooling.MaxPooling2D object at 0x000001D8A30C5DF0> False\n",
      "<keras.layers.convolutional.Conv2D object at 0x000001D8B750E7C0> False\n",
      "<keras.layers.normalization.batch_normalization.BatchNormalization object at 0x000001D8B750A8B0> False\n",
      "<keras.layers.core.Activation object at 0x000001D8B7515CD0> False\n",
      "<keras.layers.convolutional.Conv2D object at 0x000001D8B750E790> False\n",
      "<keras.layers.normalization.batch_normalization.BatchNormalization object at 0x000001D8B7503F70> False\n",
      "<keras.layers.core.Activation object at 0x000001D8B7503400> False\n",
      "<keras.layers.convolutional.Conv2D object at 0x000001D8B75158B0> False\n",
      "<keras.layers.convolutional.Conv2D object at 0x000001D8B7528160> False\n",
      "<keras.layers.normalization.batch_normalization.BatchNormalization object at 0x000001D8B7515DF0> False\n",
      "<keras.layers.normalization.batch_normalization.BatchNormalization object at 0x000001D8B752D5B0> False\n",
      "<keras.layers.merge.Add object at 0x000001D8B7505D00> False\n",
      "<keras.layers.core.Activation object at 0x000001D8B7528310> False\n",
      "<keras.layers.convolutional.Conv2D object at 0x000001D8B753B820> False\n",
      "<keras.layers.normalization.batch_normalization.BatchNormalization object at 0x000001D8AADB6610> False\n",
      "<keras.layers.core.Activation object at 0x000001D8B7532610> False\n",
      "<keras.layers.convolutional.Conv2D object at 0x000001D8B7528B20> False\n",
      "<keras.layers.normalization.batch_normalization.BatchNormalization object at 0x000001D8AADDE6D0> False\n",
      "<keras.layers.core.Activation object at 0x000001D8B750AEB0> False\n",
      "<keras.layers.convolutional.Conv2D object at 0x000001D8AADDD730> False\n",
      "<keras.layers.normalization.batch_normalization.BatchNormalization object at 0x000001D8AADADB20> False\n",
      "<keras.layers.merge.Add object at 0x000001D8AADDE4C0> False\n",
      "<keras.layers.core.Activation object at 0x000001D8AADD9760> False\n",
      "<keras.layers.convolutional.Conv2D object at 0x000001D8AADD6E50> False\n",
      "<keras.layers.normalization.batch_normalization.BatchNormalization object at 0x000001D8AADBCB50> False\n",
      "<keras.layers.core.Activation object at 0x000001D8AADDDE20> False\n",
      "<keras.layers.convolutional.Conv2D object at 0x000001D8AADBBCA0> False\n",
      "<keras.layers.normalization.batch_normalization.BatchNormalization object at 0x000001D8AADA2C10> False\n",
      "<keras.layers.core.Activation object at 0x000001D8AADBCA90> False\n",
      "<keras.layers.convolutional.Conv2D object at 0x000001D8AADA2A30> False\n",
      "<keras.layers.normalization.batch_normalization.BatchNormalization object at 0x000001D8AFB0F220> False\n",
      "<keras.layers.merge.Add object at 0x000001D8AFB2BEB0> False\n",
      "<keras.layers.core.Activation object at 0x000001D8AFB0FC10> False\n",
      "<keras.layers.convolutional.Conv2D object at 0x000001D8AFB20100> False\n",
      "<keras.layers.normalization.batch_normalization.BatchNormalization object at 0x000001D8AFB0F1F0> False\n",
      "<keras.layers.core.Activation object at 0x000001D8AFB20DF0> False\n",
      "<keras.layers.convolutional.Conv2D object at 0x000001D8AADDD250> False\n",
      "<keras.layers.normalization.batch_normalization.BatchNormalization object at 0x000001D8AADB3370> False\n",
      "<keras.layers.core.Activation object at 0x000001D8B75036D0> False\n",
      "<keras.layers.convolutional.Conv2D object at 0x000001D8AFB39490> False\n",
      "<keras.layers.convolutional.Conv2D object at 0x000001D8B7515910> False\n",
      "<keras.layers.normalization.batch_normalization.BatchNormalization object at 0x000001D8AFB20250> False\n",
      "<keras.layers.normalization.batch_normalization.BatchNormalization object at 0x000001D8A30C56D0> False\n",
      "<keras.layers.merge.Add object at 0x000001D8AFB36B50> False\n",
      "<keras.layers.core.Activation object at 0x000001D8AFB368B0> False\n",
      "<keras.layers.convolutional.Conv2D object at 0x000001D8B750FC40> False\n",
      "<keras.layers.normalization.batch_normalization.BatchNormalization object at 0x000001D8AADB7970> False\n",
      "<keras.layers.core.Activation object at 0x000001D8AADB3E80> False\n",
      "<keras.layers.convolutional.Conv2D object at 0x000001D8AADB7A00> False\n",
      "<keras.layers.normalization.batch_normalization.BatchNormalization object at 0x000001D8AADC8A30> False\n",
      "<keras.layers.core.Activation object at 0x000001D8AADDAFA0> False\n",
      "<keras.layers.convolutional.Conv2D object at 0x000001D8AADC8910> False\n",
      "<keras.layers.normalization.batch_normalization.BatchNormalization object at 0x000001D8AFB31F10> False\n",
      "<keras.layers.merge.Add object at 0x000001D8AADB71F0> False\n",
      "<keras.layers.core.Activation object at 0x000001D8AFB18400> False\n",
      "<keras.layers.convolutional.Conv2D object at 0x000001D8A307D2B0> False\n",
      "<keras.layers.normalization.batch_normalization.BatchNormalization object at 0x000001D8A307DF40> False\n",
      "<keras.layers.core.Activation object at 0x000001D8A3064B20> False\n",
      "<keras.layers.convolutional.Conv2D object at 0x000001D8A3067D90> False\n",
      "<keras.layers.normalization.batch_normalization.BatchNormalization object at 0x000001D8A3076130> False\n",
      "<keras.layers.core.Activation object at 0x000001D8A3076640> False\n",
      "<keras.layers.convolutional.Conv2D object at 0x000001D8A3079700> False\n",
      "<keras.layers.normalization.batch_normalization.BatchNormalization object at 0x000001D8A309E640> False\n",
      "<keras.layers.merge.Add object at 0x000001D8A306E6D0> False\n",
      "<keras.layers.core.Activation object at 0x000001D8A306ED00> False\n",
      "<keras.layers.convolutional.Conv2D object at 0x000001D8A30848B0> False\n",
      "<keras.layers.normalization.batch_normalization.BatchNormalization object at 0x000001D8A3098670> False\n",
      "<keras.layers.core.Activation object at 0x000001D8A3084670> False\n",
      "<keras.layers.convolutional.Conv2D object at 0x000001D8A306E9D0> False\n",
      "<keras.layers.normalization.batch_normalization.BatchNormalization object at 0x000001D6257F6670> False\n",
      "<keras.layers.core.Activation object at 0x000001D8A3098AF0> False\n",
      "<keras.layers.convolutional.Conv2D object at 0x000001D8A306E4F0> False\n",
      "<keras.layers.normalization.batch_normalization.BatchNormalization object at 0x000001D625802B80> False\n",
      "<keras.layers.merge.Add object at 0x000001D62580ACD0> False\n",
      "<keras.layers.core.Activation object at 0x000001D62580A040> False\n",
      "<keras.layers.convolutional.Conv2D object at 0x000001D8A3064D30> False\n",
      "<keras.layers.normalization.batch_normalization.BatchNormalization object at 0x000001D625802670> False\n",
      "<keras.layers.core.Activation object at 0x000001D8A3064F70> False\n",
      "<keras.layers.convolutional.Conv2D object at 0x000001D8AFB36A00> False\n",
      "<keras.layers.normalization.batch_normalization.BatchNormalization object at 0x000001D8AADB65B0> False\n",
      "<keras.layers.core.Activation object at 0x000001D6257FC730> False\n",
      "<keras.layers.convolutional.Conv2D object at 0x000001D8A3068FA0> False\n",
      "<keras.layers.convolutional.Conv2D object at 0x000001D625802B20> False\n",
      "<keras.layers.normalization.batch_normalization.BatchNormalization object at 0x000001D8A307D220> False\n",
      "<keras.layers.normalization.batch_normalization.BatchNormalization object at 0x000001D8A308B2E0> False\n",
      "<keras.layers.merge.Add object at 0x000001D8A308E370> False\n",
      "<keras.layers.core.Activation object at 0x000001D8A308E9A0> False\n",
      "<keras.layers.convolutional.Conv2D object at 0x000001D6257F5520> False\n",
      "<keras.layers.normalization.batch_normalization.BatchNormalization object at 0x000001D625815310> False\n",
      "<keras.layers.core.Activation object at 0x000001D625815670> False\n",
      "<keras.layers.convolutional.Conv2D object at 0x000001D8A308B670> False\n",
      "<keras.layers.normalization.batch_normalization.BatchNormalization object at 0x000001D6258203D0> False\n",
      "<keras.layers.core.Activation object at 0x000001D625815DC0> False\n",
      "<keras.layers.convolutional.Conv2D object at 0x000001D6257F53D0> False\n",
      "<keras.layers.normalization.batch_normalization.BatchNormalization object at 0x000001D625829820> False\n",
      "<keras.layers.merge.Add object at 0x000001D625831970> False\n",
      "<keras.layers.core.Activation object at 0x000001D625831FA0> False\n",
      "<keras.layers.convolutional.Conv2D object at 0x000001D625838B50> False\n",
      "<keras.layers.normalization.batch_normalization.BatchNormalization object at 0x000001D62583F850> False\n",
      "<keras.layers.core.Activation object at 0x000001D62583FCA0> False\n",
      "<keras.layers.convolutional.Conv2D object at 0x000001D625831DC0> False\n",
      "<keras.layers.normalization.batch_normalization.BatchNormalization object at 0x000001D62584A940> False\n",
      "<keras.layers.core.Activation object at 0x000001D62583F9D0> False\n",
      "<keras.layers.convolutional.Conv2D object at 0x000001D6258299A0> False\n",
      "<keras.layers.normalization.batch_normalization.BatchNormalization object at 0x000001D625856E50> False\n",
      "<keras.layers.merge.Add object at 0x000001D62585DF70> False\n",
      "<keras.layers.core.Activation object at 0x000001D62585D700> False\n",
      "<keras.layers.convolutional.Conv2D object at 0x000001D62586B1C0> False\n",
      "<keras.layers.normalization.batch_normalization.BatchNormalization object at 0x000001D62586BE80> False\n",
      "<keras.layers.core.Activation object at 0x000001D625870FD0> False\n",
      "<keras.layers.convolutional.Conv2D object at 0x000001D625865670> False\n",
      "<keras.layers.normalization.batch_normalization.BatchNormalization object at 0x000001D625877F10> False\n",
      "<keras.layers.core.Activation object at 0x000001D62587E3D0> False\n",
      "<keras.layers.convolutional.Conv2D object at 0x000001D625877760> False\n",
      "<keras.layers.normalization.batch_normalization.BatchNormalization object at 0x000001D625856580> False\n",
      "<keras.layers.merge.Add object at 0x000001D6258387C0> False\n",
      "<keras.layers.core.Activation object at 0x000001D625831880> False\n",
      "<keras.layers.convolutional.Conv2D object at 0x000001D625817CD0> False\n",
      "<keras.layers.normalization.batch_normalization.BatchNormalization object at 0x000001D8A308E8B0> False\n",
      "<keras.layers.core.Activation object at 0x000001D62584F880> False\n",
      "<keras.layers.convolutional.Conv2D object at 0x000001D625817940> False\n",
      "<keras.layers.normalization.batch_normalization.BatchNormalization object at 0x000001D6258833A0> False\n",
      "<keras.layers.core.Activation object at 0x000001D8A30C5610> False\n",
      "<keras.layers.convolutional.Conv2D object at 0x000001D8AADDAF70> False\n",
      "<keras.layers.normalization.batch_normalization.BatchNormalization object at 0x000001D6257FFA30> False\n",
      "<keras.layers.merge.Add object at 0x000001D8AFB18AF0> False\n",
      "<keras.layers.core.Activation object at 0x000001D62584C670> False\n",
      "<keras.layers.convolutional.Conv2D object at 0x000001D625878D90> False\n",
      "<keras.layers.normalization.batch_normalization.BatchNormalization object at 0x000001D625887A90> False\n",
      "<keras.layers.core.Activation object at 0x000001D6257FF3D0> False\n",
      "<keras.layers.convolutional.Conv2D object at 0x000001D62584CD30> False\n",
      "<keras.layers.normalization.batch_normalization.BatchNormalization object at 0x000001D625892B50> False\n",
      "<keras.layers.core.Activation object at 0x000001D625887FD0> False\n",
      "<keras.layers.convolutional.Conv2D object at 0x000001D625892970> False\n",
      "<keras.layers.normalization.batch_normalization.BatchNormalization object at 0x000001D6258A41C0> False\n",
      "<keras.layers.merge.Add object at 0x000001D6258A4160> False\n",
      "<keras.layers.core.Activation object at 0x000001D625878B50> False\n",
      "<keras.layers.convolutional.Conv2D object at 0x000001D6258B8580> False\n",
      "<keras.layers.normalization.batch_normalization.BatchNormalization object at 0x000001D6258BC880> False\n",
      "<keras.layers.core.Activation object at 0x000001D6258929D0> False\n",
      "<keras.layers.convolutional.Conv2D object at 0x000001D6258A0B80> False\n",
      "<keras.layers.normalization.batch_normalization.BatchNormalization object at 0x000001D6258D53D0> False\n",
      "<keras.layers.core.Activation object at 0x000001D6258D9460> False\n",
      "<keras.layers.convolutional.Conv2D object at 0x000001D6258B3460> False\n",
      "<keras.layers.convolutional.Conv2D object at 0x000001D6258D5E80> False\n",
      "<keras.layers.normalization.batch_normalization.BatchNormalization object at 0x000001D6258B8220> False\n",
      "<keras.layers.normalization.batch_normalization.BatchNormalization object at 0x000001D6258DE820> False\n",
      "<keras.layers.merge.Add object at 0x000001D6258E5970> False\n",
      "<keras.layers.core.Activation object at 0x000001D6258E5FA0> False\n",
      "<keras.layers.convolutional.Conv2D object at 0x000001D6258EDB50> False\n",
      "<keras.layers.normalization.batch_normalization.BatchNormalization object at 0x000001D6258F6850> False\n",
      "<keras.layers.core.Activation object at 0x000001D6258F6CA0> False\n",
      "<keras.layers.convolutional.Conv2D object at 0x000001D6258E5AF0> False\n",
      "<keras.layers.normalization.batch_normalization.BatchNormalization object at 0x000001D6258CBBB0> False\n",
      "<keras.layers.core.Activation object at 0x000001D6258BC250> False\n",
      "<keras.layers.convolutional.Conv2D object at 0x000001D6258C5A90> False\n",
      "<keras.layers.normalization.batch_normalization.BatchNormalization object at 0x000001D62588C8E0> False\n",
      "<keras.layers.merge.Add object at 0x000001D6258AABE0> False\n",
      "<keras.layers.core.Activation object at 0x000001D8AFB30D60> False\n",
      "<keras.layers.convolutional.Conv2D object at 0x000001D625877CA0> True\n",
      "<keras.layers.normalization.batch_normalization.BatchNormalization object at 0x000001D6258FAE20> True\n",
      "<keras.layers.core.Activation object at 0x000001D625845C70> True\n",
      "<keras.layers.convolutional.Conv2D object at 0x000001D625877E20> True\n",
      "<keras.layers.normalization.batch_normalization.BatchNormalization object at 0x000001D6258C1EE0> True\n",
      "<keras.layers.core.Activation object at 0x000001D625894910> True\n",
      "<keras.layers.convolutional.Conv2D object at 0x000001D6258C1550> True\n",
      "<keras.layers.normalization.batch_normalization.BatchNormalization object at 0x000001D6259014F0> True\n",
      "<keras.layers.merge.Add object at 0x000001D625904580> True\n",
      "<keras.layers.core.Activation object at 0x000001D625904BB0> True\n"
     ]
    }
   ],
   "source": [
    "for layer in model_0.layers[1].layers:\n",
    "    print(layer, layer.trainable)"
   ]
  },
  {
   "cell_type": "code",
   "execution_count": 58,
   "id": "f9a84c37-1b99-4552-bdfc-10529077b966",
   "metadata": {},
   "outputs": [
    {
     "name": "stdout",
     "output_type": "stream",
     "text": [
      "Epoch 1/50\n",
      "919/919 [==============================] - 10s 11ms/step - loss: 0.3238 - accuracy: 0.9047 - val_loss: 0.3307 - val_accuracy: 0.8976\n",
      "Epoch 2/50\n",
      "919/919 [==============================] - 10s 11ms/step - loss: 0.3125 - accuracy: 0.9064 - val_loss: 0.3259 - val_accuracy: 0.9002\n",
      "Epoch 3/50\n",
      "919/919 [==============================] - 10s 11ms/step - loss: 0.3050 - accuracy: 0.9100 - val_loss: 0.3143 - val_accuracy: 0.9045\n",
      "Epoch 4/50\n",
      "919/919 [==============================] - 10s 11ms/step - loss: 0.2984 - accuracy: 0.9110 - val_loss: 0.3026 - val_accuracy: 0.9078\n",
      "Epoch 5/50\n",
      "919/919 [==============================] - 10s 11ms/step - loss: 0.2917 - accuracy: 0.9128 - val_loss: 0.2997 - val_accuracy: 0.9087\n",
      "Epoch 6/50\n",
      "919/919 [==============================] - 10s 11ms/step - loss: 0.2852 - accuracy: 0.9143 - val_loss: 0.3003 - val_accuracy: 0.9064\n",
      "Epoch 7/50\n",
      "919/919 [==============================] - 11s 12ms/step - loss: 0.2806 - accuracy: 0.9165 - val_loss: 0.2850 - val_accuracy: 0.9119\n",
      "Epoch 8/50\n",
      "919/919 [==============================] - 11s 12ms/step - loss: 0.2759 - accuracy: 0.9181 - val_loss: 0.2832 - val_accuracy: 0.9137\n",
      "Epoch 9/50\n",
      "919/919 [==============================] - 11s 11ms/step - loss: 0.2695 - accuracy: 0.9190 - val_loss: 0.2796 - val_accuracy: 0.9139\n",
      "Epoch 10/50\n",
      "919/919 [==============================] - 10s 11ms/step - loss: 0.2661 - accuracy: 0.9196 - val_loss: 0.2818 - val_accuracy: 0.9135\n",
      "Epoch 11/50\n",
      "919/919 [==============================] - 10s 11ms/step - loss: 0.2621 - accuracy: 0.9213 - val_loss: 0.2740 - val_accuracy: 0.9146\n",
      "Epoch 12/50\n",
      "919/919 [==============================] - 10s 11ms/step - loss: 0.2592 - accuracy: 0.9221 - val_loss: 0.2743 - val_accuracy: 0.9149\n",
      "Epoch 13/50\n",
      "919/919 [==============================] - 11s 12ms/step - loss: 0.2547 - accuracy: 0.9223 - val_loss: 0.2639 - val_accuracy: 0.9188\n",
      "Epoch 14/50\n",
      "919/919 [==============================] - 11s 12ms/step - loss: 0.2521 - accuracy: 0.9245 - val_loss: 0.2660 - val_accuracy: 0.9173\n",
      "Epoch 15/50\n",
      "919/919 [==============================] - 10s 11ms/step - loss: 0.2487 - accuracy: 0.9243 - val_loss: 0.2724 - val_accuracy: 0.9148\n",
      "Epoch 16/50\n",
      "919/919 [==============================] - 10s 11ms/step - loss: 0.2469 - accuracy: 0.9258 - val_loss: 0.2610 - val_accuracy: 0.9194\n",
      "Epoch 17/50\n",
      "919/919 [==============================] - 10s 11ms/step - loss: 0.2441 - accuracy: 0.9261 - val_loss: 0.2605 - val_accuracy: 0.9180\n",
      "Epoch 18/50\n",
      "919/919 [==============================] - 10s 11ms/step - loss: 0.2415 - accuracy: 0.9275 - val_loss: 0.2680 - val_accuracy: 0.9160\n",
      "Epoch 19/50\n",
      "919/919 [==============================] - 10s 11ms/step - loss: 0.2391 - accuracy: 0.9267 - val_loss: 0.2621 - val_accuracy: 0.9190\n",
      "Epoch 20/50\n",
      "919/919 [==============================] - 10s 11ms/step - loss: 0.2369 - accuracy: 0.9285 - val_loss: 0.2532 - val_accuracy: 0.9222\n",
      "Epoch 21/50\n",
      "919/919 [==============================] - 10s 11ms/step - loss: 0.2349 - accuracy: 0.9290 - val_loss: 0.2481 - val_accuracy: 0.9229\n",
      "Epoch 22/50\n",
      "919/919 [==============================] - 10s 11ms/step - loss: 0.2329 - accuracy: 0.9293 - val_loss: 0.2503 - val_accuracy: 0.9238\n",
      "Epoch 23/50\n",
      "919/919 [==============================] - 10s 11ms/step - loss: 0.2317 - accuracy: 0.9293 - val_loss: 0.2506 - val_accuracy: 0.9229\n",
      "Epoch 24/50\n",
      "919/919 [==============================] - 10s 11ms/step - loss: 0.2291 - accuracy: 0.9301 - val_loss: 0.2442 - val_accuracy: 0.9241\n",
      "Epoch 25/50\n",
      "919/919 [==============================] - 10s 11ms/step - loss: 0.2277 - accuracy: 0.9310 - val_loss: 0.2436 - val_accuracy: 0.9239\n",
      "Epoch 26/50\n",
      "919/919 [==============================] - 10s 11ms/step - loss: 0.2250 - accuracy: 0.9316 - val_loss: 0.2449 - val_accuracy: 0.9243\n",
      "Epoch 27/50\n",
      "919/919 [==============================] - 10s 11ms/step - loss: 0.2240 - accuracy: 0.9320 - val_loss: 0.2404 - val_accuracy: 0.9250\n",
      "Epoch 28/50\n",
      "919/919 [==============================] - 10s 11ms/step - loss: 0.2221 - accuracy: 0.9332 - val_loss: 0.2403 - val_accuracy: 0.9252\n",
      "Epoch 29/50\n",
      "919/919 [==============================] - 13s 14ms/step - loss: 0.2219 - accuracy: 0.9321 - val_loss: 0.2490 - val_accuracy: 0.9236\n",
      "Epoch 30/50\n",
      "919/919 [==============================] - 11s 12ms/step - loss: 0.2197 - accuracy: 0.9332 - val_loss: 0.2394 - val_accuracy: 0.9270\n",
      "Epoch 31/50\n",
      "919/919 [==============================] - 10s 11ms/step - loss: 0.2190 - accuracy: 0.9326 - val_loss: 0.2368 - val_accuracy: 0.9268\n",
      "Epoch 32/50\n",
      "919/919 [==============================] - 10s 11ms/step - loss: 0.2175 - accuracy: 0.9338 - val_loss: 0.2322 - val_accuracy: 0.9292\n",
      "Epoch 33/50\n",
      "919/919 [==============================] - 10s 11ms/step - loss: 0.2150 - accuracy: 0.9339 - val_loss: 0.2324 - val_accuracy: 0.9270\n",
      "Epoch 34/50\n",
      "919/919 [==============================] - 10s 11ms/step - loss: 0.2143 - accuracy: 0.9339 - val_loss: 0.2357 - val_accuracy: 0.9274\n",
      "Epoch 35/50\n",
      "919/919 [==============================] - 10s 11ms/step - loss: 0.2125 - accuracy: 0.9356 - val_loss: 0.2349 - val_accuracy: 0.9277\n",
      "Epoch 36/50\n",
      "919/919 [==============================] - 10s 11ms/step - loss: 0.2118 - accuracy: 0.9352 - val_loss: 0.2312 - val_accuracy: 0.9283\n",
      "Epoch 37/50\n",
      "919/919 [==============================] - 10s 11ms/step - loss: 0.2117 - accuracy: 0.9354 - val_loss: 0.2267 - val_accuracy: 0.9302\n",
      "Epoch 38/50\n",
      "919/919 [==============================] - 11s 11ms/step - loss: 0.2101 - accuracy: 0.9360 - val_loss: 0.2303 - val_accuracy: 0.9287\n",
      "Epoch 39/50\n",
      "919/919 [==============================] - 10s 11ms/step - loss: 0.2093 - accuracy: 0.9360 - val_loss: 0.2284 - val_accuracy: 0.9301\n",
      "Epoch 40/50\n",
      "919/919 [==============================] - 10s 11ms/step - loss: 0.2075 - accuracy: 0.9365 - val_loss: 0.2329 - val_accuracy: 0.9286\n",
      "Epoch 41/50\n",
      "919/919 [==============================] - 10s 11ms/step - loss: 0.2070 - accuracy: 0.9365 - val_loss: 0.2308 - val_accuracy: 0.9264\n",
      "Epoch 42/50\n",
      "919/919 [==============================] - 10s 11ms/step - loss: 0.2058 - accuracy: 0.9377 - val_loss: 0.2231 - val_accuracy: 0.9313\n",
      "Epoch 43/50\n",
      "919/919 [==============================] - 10s 11ms/step - loss: 0.2056 - accuracy: 0.9359 - val_loss: 0.2219 - val_accuracy: 0.9324\n",
      "Epoch 44/50\n",
      "919/919 [==============================] - 10s 11ms/step - loss: 0.2034 - accuracy: 0.9385 - val_loss: 0.2244 - val_accuracy: 0.9307\n",
      "Epoch 45/50\n",
      "919/919 [==============================] - 10s 11ms/step - loss: 0.2037 - accuracy: 0.9379 - val_loss: 0.2330 - val_accuracy: 0.9278\n",
      "Epoch 46/50\n",
      "919/919 [==============================] - 10s 11ms/step - loss: 0.2025 - accuracy: 0.9372 - val_loss: 0.2173 - val_accuracy: 0.9331\n",
      "Epoch 47/50\n",
      "919/919 [==============================] - 10s 11ms/step - loss: 0.2016 - accuracy: 0.9376 - val_loss: 0.2236 - val_accuracy: 0.9318\n",
      "Epoch 48/50\n",
      "919/919 [==============================] - 10s 11ms/step - loss: 0.2010 - accuracy: 0.9385 - val_loss: 0.2186 - val_accuracy: 0.9317\n",
      "Epoch 49/50\n",
      "919/919 [==============================] - 10s 11ms/step - loss: 0.1991 - accuracy: 0.9386 - val_loss: 0.2187 - val_accuracy: 0.9325\n",
      "Epoch 50/50\n",
      "919/919 [==============================] - 10s 11ms/step - loss: 0.1992 - accuracy: 0.9382 - val_loss: 0.2146 - val_accuracy: 0.9350\n"
     ]
    },
    {
     "data": {
      "text/plain": [
       "<keras.callbacks.History at 0x1d634818880>"
      ]
     },
     "execution_count": 58,
     "metadata": {},
     "output_type": "execute_result"
    }
   ],
   "source": [
    "# Fine tuning\n",
    "model_0.fit(x=X_train,y=y_train,validation_data=(X_valid,y_valid),epochs=50,callbacks=[earlystop])"
   ]
  },
  {
   "cell_type": "code",
   "execution_count": 81,
   "id": "bfecae9f-96cc-4c82-9887-8ebfd14102bf",
   "metadata": {},
   "outputs": [],
   "source": [
    "y_pred=model_0.predict(X_valid)\n",
    "y_pred=np.argmax(y_pred,axis=1)"
   ]
  },
  {
   "cell_type": "code",
   "execution_count": 83,
   "id": "6cb15037-373a-4060-aa42-40304180c410",
   "metadata": {},
   "outputs": [],
   "source": [
    "y_valid=np.argmax(y_valid,axis=1)"
   ]
  },
  {
   "cell_type": "code",
   "execution_count": 84,
   "id": "6d251cba-53e9-4795-8e7f-0ae9ec23826c",
   "metadata": {},
   "outputs": [],
   "source": [
    "conf_mat=confusion_matrix(y_valid, y_pred)"
   ]
  },
  {
   "cell_type": "code",
   "execution_count": null,
   "id": "30fdc6cb-3c1d-4d02-abb6-963989f45a26",
   "metadata": {},
   "outputs": [],
   "source": [
    "conf_mat"
   ]
  },
  {
   "cell_type": "code",
   "execution_count": 91,
   "id": "ebf46af5-a650-49c5-981c-8bd99aa68064",
   "metadata": {},
   "outputs": [
    {
     "data": {
      "text/plain": [
       "<Axes: >"
      ]
     },
     "execution_count": 91,
     "metadata": {},
     "output_type": "execute_result"
    },
    {
     "data": {
      "image/png": "[encoded data removed]",
      "text/plain": [
       "<Figure size 640x480 with 2 Axes>"
      ]
     },
     "metadata": {},
     "output_type": "display_data"
    }
   ],
   "source": [
    "sns.heatmap(conf_mat,annot=True,cmap='YlGnBu')"
   ]
  },
  {
   "cell_type": "code",
   "execution_count": 105,
   "id": "a6b926ac-8a10-4d00-a495-02460854bfde",
   "metadata": {},
   "outputs": [],
   "source": [
    "test=pd.read_csv('test.csv').values.reshape(len(test),28,28,1)/255."
   ]
  },
  {
   "cell_type": "code",
   "execution_count": 113,
   "id": "2f646171-9481-4fad-9aa0-1fdb0c77c8ef",
   "metadata": {},
   "outputs": [],
   "source": [
    "test=test.repeat(3,-1)"
   ]
  },
  {
   "cell_type": "code",
   "execution_count": 115,
   "id": "d6be8d21-7fd3-46ef-9e0d-7ccae67d8af6",
   "metadata": {},
   "outputs": [],
   "source": [
    "y_pred=model_0.predict(test)"
   ]
  },
  {
   "cell_type": "code",
   "execution_count": 118,
   "id": "575f865e-9f4d-44de-a04a-9cf2474c47ae",
   "metadata": {},
   "outputs": [
    {
     "data": {
      "text/plain": [
       "(28000, 10)"
      ]
     },
     "execution_count": 118,
     "metadata": {},
     "output_type": "execute_result"
    }
   ],
   "source": [
    "y_pred.shape"
   ]
  },
  {
   "cell_type": "code",
   "execution_count": 119,
   "id": "40aa6b70-37ff-424a-a9d3-84d13694e4bb",
   "metadata": {},
   "outputs": [],
   "source": [
    "y_pred=np.argmax(y_pred,axis=1)"
   ]
  },
  {
   "cell_type": "code",
   "execution_count": 120,
   "id": "fd24da76-1b01-4d09-9d30-1fe086b030c8",
   "metadata": {},
   "outputs": [],
   "source": [
    "submit=pd.read_csv('sample_submission.csv')"
   ]
  },
  {
   "cell_type": "code",
   "execution_count": 122,
   "id": "ded15808-5fa8-4965-b414-fc0b5177d00c",
   "metadata": {},
   "outputs": [],
   "source": [
    "submit.Label=y_pred"
   ]
  },
  {
   "cell_type": "code",
   "execution_count": 124,
   "id": "b6bbf7b1-06ad-429d-9f9d-afcf7210800a",
   "metadata": {},
   "outputs": [],
   "source": [
    "submit.to_csv('sample_submission.csv',index=False)"
   ]
  }
 ],
 "metadata": {
  "kernelspec": {
   "display_name": "Python 3 (ipykernel)",
   "language": "python",
   "name": "python3"
  },
  "language_info": {
   "codemirror_mode": {
    "name": "ipython",
    "version": 3
   },
   "file_extension": ".py",
   "mimetype": "text/x-python",
   "name": "python",
   "nbconvert_exporter": "python",
   "pygments_lexer": "ipython3",
   "version": "3.9.18"
  }
 },
 "nbformat": 4,
 "nbformat_minor": 5
}
