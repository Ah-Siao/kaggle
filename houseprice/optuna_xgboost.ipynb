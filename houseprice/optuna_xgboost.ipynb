{
 "cells": [
  {
   "cell_type": "code",
   "execution_count": 5,
   "id": "b302ccc1-3572-49f2-a970-910c706af6de",
   "metadata": {},
   "outputs": [],
   "source": [
    "import pandas as pd\n",
    "import numpy as np\n",
    "from sklearn.model_selection import train_test_split\n",
    "import xgboost as xgb\n",
    "from sklearn.metrics import mean_squared_error, mean_absolute_error,r2_score\n",
    "import optuna"
   ]
  },
  {
   "cell_type": "code",
   "execution_count": 6,
   "id": "7a4ac817-9718-4cc0-a72b-c4dcdd7673ab",
   "metadata": {},
   "outputs": [],
   "source": [
    "train=pd.read_csv('train.csv')\n",
    "numeric_train_list=['LotFrontage', 'LotArea','YearBuilt','YearRemodAdd','MasVnrArea','BsmtFinSF1','BsmtFinSF2','BsmtUnfSF','TotalBsmtSF','1stFlrSF','2ndFlrSF','LowQualFinSF','GrLivArea','BsmtFullBath','BsmtHalfBath','FullBath','HalfBath','TotRmsAbvGrd','Fireplaces','GarageYrBlt','GarageCars','GarageArea','WoodDeckSF','OpenPorchSF','EnclosedPorch','3SsnPorch','ScreenPorch','PoolArea','MiscVal','MoSold','YrSold','BedroomAbvGr','KitchenAbvGr']\n",
    "categorical_train_list=['MSSubClass','MSZoning','Street','Alley','LotShape','LandContour','Utilities','LotConfig','LandSlope','Neighborhood','Condition1','Condition2','BldgType','HouseStyle','OverallQual','OverallCond','RoofStyle','RoofMatl','Exterior1st','Exterior2nd','MasVnrType','ExterQual','ExterCond','Foundation','BsmtQual','BsmtCond','BsmtExposure','BsmtFinType1','BsmtFinType2','Heating','HeatingQC','CentralAir','Electrical','KitchenQual','Functional','FireplaceQu','GarageType','GarageFinish','GarageQual','GarageCond','PavedDrive','PoolQC','Fence','MiscFeature','SaleType','SaleCondition']\n",
    "target_list=['SalePrice']\n",
    "numeric_train=train.loc[:,numeric_train_list]\n",
    "categorical_train=train[categorical_train_list]\n",
    "target=train[target_list]\n",
    "# As there are too many missing values in PoolQC, Fence\n",
    "categorical_train=categorical_train.drop(['Alley', 'MasVnrType', 'FireplaceQu', 'PoolQC', 'Fence', 'MiscFeature'],axis=1)\n",
    "# we can classify the missing one into one category\n",
    "categorical_train.loc[categorical_train.GarageType.isna(),['GarageType','GarageFinish','GarageCond','GarageQual']]='no_garage'\n",
    "numeric_train.loc[numeric_train.GarageYrBlt.isna(),'GarageYrBlt']=numeric_train.GarageYrBlt.min()\n",
    "numeric_train=numeric_train.drop('LotFrontage',axis=1)\n",
    "numeric_train.loc[numeric_train.MasVnrArea.isna(),:]=0\n",
    "categorical_train['Electrical']=categorical_train['Electrical'].ffill()\n",
    "categorical_train.loc[:,[name for name in categorical_train.columns if 'Bsmt' in name]]=categorical_train.loc[:,[name for name in categorical_train.columns if 'Bsmt' in name]].fillna('No_Bsmt')\n",
    "categorical_train=categorical_train.astype('category')"
   ]
  },
  {
   "cell_type": "code",
   "execution_count": 7,
   "id": "7370361a-51f4-4585-af4c-4795b47149bd",
   "metadata": {},
   "outputs": [],
   "source": [
    "cat_df_onehot=pd.get_dummies(categorical_train,drop_first=True,dtype='float')"
   ]
  },
  {
   "cell_type": "code",
   "execution_count": 8,
   "id": "555ac440-fcb2-4d4b-83fa-885b23961f58",
   "metadata": {},
   "outputs": [],
   "source": [
    "keep_list=abs(pd.concat([numeric_train,target],axis=1).corr()['SalePrice'])>0.05\n",
    "numeric_train=numeric_train.loc[:,keep_list]"
   ]
  },
  {
   "cell_type": "code",
   "execution_count": 9,
   "id": "049bb238-0838-4239-ab0c-dd8f7695355d",
   "metadata": {},
   "outputs": [],
   "source": [
    "df=pd.concat([numeric_train,cat_df_onehot,target],axis=1)"
   ]
  },
  {
   "cell_type": "code",
   "execution_count": 10,
   "id": "61444f93-9910-41c5-9d7e-80eb44302a7a",
   "metadata": {},
   "outputs": [],
   "source": [
    "test=pd.read_csv('test.csv')\n",
    "numeric_train_list=['LotFrontage', 'LotArea','YearBuilt','YearRemodAdd','MasVnrArea','BsmtFinSF1','BsmtFinSF2','BsmtUnfSF','TotalBsmtSF','1stFlrSF','2ndFlrSF','LowQualFinSF','GrLivArea','BsmtFullBath','BsmtHalfBath','FullBath','HalfBath','TotRmsAbvGrd','Fireplaces','GarageYrBlt','GarageCars','GarageArea','WoodDeckSF','OpenPorchSF','EnclosedPorch','3SsnPorch','ScreenPorch','PoolArea','MiscVal','MoSold','YrSold','BedroomAbvGr','KitchenAbvGr']\n",
    "categorical_train_list=['MSSubClass','MSZoning','Street','Alley','LotShape','LandContour','Utilities','LotConfig','LandSlope','Neighborhood','Condition1','Condition2','BldgType','HouseStyle','OverallQual','OverallCond','RoofStyle','RoofMatl','Exterior1st','Exterior2nd','MasVnrType','ExterQual','ExterCond','Foundation','BsmtQual','BsmtCond','BsmtExposure','BsmtFinType1','BsmtFinType2','Heating','HeatingQC','CentralAir','Electrical','KitchenQual','Functional','FireplaceQu','GarageType','GarageFinish','GarageQual','GarageCond','PavedDrive','PoolQC','Fence','MiscFeature','SaleType','SaleCondition']\n",
    "numeric_test=test.loc[:,numeric_train_list]\n",
    "categorical_test=test.loc[:,categorical_train_list]\n",
    "# As there are too many missing values in PoolQC, Fence\n",
    "categorical_test=categorical_test.drop(['Alley', 'MasVnrType', 'FireplaceQu', 'PoolQC', 'Fence', 'MiscFeature'],axis=1)\n",
    "# we can classify the missing one into one category\n",
    "categorical_test.loc[categorical_test.GarageType.isna(),['GarageType','GarageFinish','GarageCond','GarageQual']]='no_garage'\n",
    "numeric_test.loc[numeric_test.GarageYrBlt.isna(),'GarageYrBlt']=numeric_test.GarageYrBlt.min()\n",
    "numeric_test=numeric_test.drop('LotFrontage',axis=1)\n",
    "numeric_test.loc[numeric_test.MasVnrArea.isna(),:]=0\n",
    "categorical_test['Electrical']=categorical_test['Electrical'].ffill()\n",
    "categorical_test.loc[:,[name for name in categorical_test.columns if 'Bsmt' in name]]=categorical_test.loc[:,[name for name in categorical_test.columns if 'Bsmt' in name]].fillna('No_Bsmt')\n",
    "categorical_test=categorical_test.astype('category')"
   ]
  },
  {
   "cell_type": "code",
   "execution_count": 11,
   "id": "badf3eb9-ba8d-457b-8f87-953a77b2699a",
   "metadata": {},
   "outputs": [],
   "source": [
    "numeric_test=numeric_test.loc[:,keep_list]"
   ]
  },
  {
   "cell_type": "code",
   "execution_count": 12,
   "id": "f8e98fc2-c5eb-4c3a-bfd3-5ef36c6e0aa9",
   "metadata": {},
   "outputs": [],
   "source": [
    "cat_test_onehot=pd.get_dummies(categorical_test,drop_first=True,dtype='float')"
   ]
  },
  {
   "cell_type": "code",
   "execution_count": 13,
   "id": "da99d5b4-5836-4710-8940-6e710db9bb1e",
   "metadata": {},
   "outputs": [],
   "source": [
    "need_added=[i for i in cat_df_onehot.columns if i not in cat_test_onehot]"
   ]
  },
  {
   "cell_type": "code",
   "execution_count": 14,
   "id": "f55be123-69bb-4a49-9679-3212d4fa2489",
   "metadata": {},
   "outputs": [],
   "source": [
    "need_drop=[i for i in cat_test_onehot.columns if i not in cat_df_onehot]"
   ]
  },
  {
   "cell_type": "code",
   "execution_count": 15,
   "id": "d1aa8fff-35f2-4c7d-a55e-9777331f0c66",
   "metadata": {},
   "outputs": [],
   "source": [
    "drop_col=list(set([item.split('_')[0] for item in (need_drop+need_added)])) "
   ]
  },
  {
   "cell_type": "code",
   "execution_count": 16,
   "id": "27114ccc-6cd8-4eaa-899f-e2a430909e6f",
   "metadata": {},
   "outputs": [],
   "source": [
    "categorical_train=categorical_train.drop(drop_col,axis=1)\n",
    "categorical_test=categorical_test.drop(drop_col,axis=1)"
   ]
  },
  {
   "cell_type": "code",
   "execution_count": 17,
   "id": "8be2e2a0-4daa-4fa9-b120-d2d10a5ebc78",
   "metadata": {},
   "outputs": [],
   "source": [
    "cat_df_onehot=pd.get_dummies(categorical_train,drop_first=True,dtype='float')\n",
    "cat_test_onehot=pd.get_dummies(categorical_test,drop_first=True,dtype='float')"
   ]
  },
  {
   "cell_type": "code",
   "execution_count": 19,
   "id": "c6930448-4659-4683-aeef-c777dbb63183",
   "metadata": {},
   "outputs": [
    {
     "data": {
      "text/plain": [
       "(154, 154)"
      ]
     },
     "execution_count": 19,
     "metadata": {},
     "output_type": "execute_result"
    }
   ],
   "source": [
    "len(cat_df_onehot.columns), len(cat_test_onehot.columns)"
   ]
  },
  {
   "cell_type": "code",
   "execution_count": 20,
   "id": "56a86fe8-f7f8-440f-a320-c74a3c32b978",
   "metadata": {},
   "outputs": [],
   "source": [
    "df=pd.concat([cat_df_onehot,numeric_train,target],axis=1)\n",
    "df_test=pd.concat([cat_test_onehot,numeric_test],axis=1)"
   ]
  },
  {
   "cell_type": "code",
   "execution_count": 21,
   "id": "aa30edd0-3bb6-4fab-aa3c-9648cf5bad84",
   "metadata": {},
   "outputs": [],
   "source": [
    "X=df.drop('SalePrice',axis=1).values\n",
    "y=df.SalePrice.values"
   ]
  },
  {
   "cell_type": "code",
   "execution_count": null,
   "id": "5d092e08-fb50-44e7-b265-beb496b4bd32",
   "metadata": {},
   "outputs": [],
   "source": [
    "def objective(trial, X=X, y=y):\n",
    "    \"\"\"\n",
    "    A function to train a model using different hyperparamerters combinations provided by Optuna.\n",
    "    \"\"\"\n",
    "    X_train, X_valid, y_train, y_valid = train_test_split(X, y, test_size=0.4)\n",
    "\n",
    "    params = {\n",
    "        'max_depth': trial.suggest_int('max_depth', 6, 15),\n",
    "        \"subsample\": trial.suggest_float(\"subsample\", 0.2, 1.0),\n",
    "        'n_estimators': trial.suggest_int('n_estimators', 500, 2000, 100),\n",
    "        'eta': trial.suggest_float(\"eta\", 1e-8, 1.0, log=True),\n",
    "        'alpha': trial.suggest_float('alpha', 1e-8, 1.0, log=True),\n",
    "        'lambda': trial.suggest_float('lambda', 1e-8, 1.0, log=True),\n",
    "        'gamma': trial.suggest_float(\"gamma\", 1e-8, 1.0, log=True),\n",
    "        'min_child_weight': trial.suggest_int('min_child_weight', 2, 10),\n",
    "        'grow_policy': trial.suggest_categorical(\"grow_policy\", [\"depthwise\", \"lossguide\"]),\n",
    "        \"colsample_bytree\": trial.suggest_float(\"colsample_bytree\", 0.2, 1.0)\n",
    "    }\n",
    "\n",
    "    reg = xgb.XGBRegressor(**params)\n",
    "    reg.fit(X_train, y_train,\n",
    "            eval_set=[(X_valid, y_valid)], eval_metric='rmse',\n",
    "            verbose=False)\n",
    "    return mean_squared_error(y_valid, reg.predict(X_valid), squared=False)"
   ]
  },
  {
   "cell_type": "code",
   "execution_count": null,
   "id": "a5a33f9b-34bd-47d6-a64d-db6d1118c632",
   "metadata": {},
   "outputs": [],
   "source": [
    "study = optuna.create_study(direction='minimize')\n",
    "study.optimize(objective, n_trials = 10)\n",
    "\n",
    "# Showing optimization results\n",
    "print('Number of finished trials:', len(study.trials))\n",
    "print('Best trial parameters:', study.best_trial.params)\n",
    "print('Best score:', study.best_value)"
   ]
  },
  {
   "cell_type": "code",
   "execution_count": 22,
   "id": "3eb67407-423d-458c-b035-20b9bd1cf423",
   "metadata": {},
   "outputs": [
    {
     "name": "stdout",
     "output_type": "stream",
     "text": [
      "xgbr_model_train_score:0.9949309006730995\n",
      "xgbr_model_test_score:0.8857444275999518\n",
      "xgbr_model_r2_score:0.8857444275999518\n"
     ]
    }
   ],
   "source": [
    "X_train, X_test, y_train, y_test = train_test_split(X, y, test_size=0.2, random_state=42)\n",
    "xgbr_model=xgb.XGBRegressor(max_depth=12, subsample= 0.4705396827126213, n_estimators=1900, eta= 0.007281420490092281, alpha= 0.294862259973789, reg_lambda= 7.810905751631526e-05, gamma= 0.00010468340602977493, min_child_weight= 4, grow_policy= 'depthwise', colsample_bytree= 0.4304997219138718)\n",
    "xgbr_model.fit(X_train,y_train)\n",
    "y_pred=xgbr_model.predict(X_test)\n",
    "print(f'xgbr_model_train_score:{xgbr_model.score(X_train,y_train)}')\n",
    "print(f'xgbr_model_test_score:{xgbr_model.score(X_test,y_test)}')\n",
    "print(f'xgbr_model_r2_score:{r2_score(y_test,y_pred)}')"
   ]
  },
  {
   "cell_type": "code",
   "execution_count": 23,
   "id": "5b35e7c6-142f-4239-ac9f-56383aa38497",
   "metadata": {},
   "outputs": [],
   "source": [
    "X_test2=df_test.values\n",
    "result=pd.Series(xgbr_model.predict(X_test2))\n",
    "result_df=pd.concat([test.Id,result],axis=1)\n",
    "result_df.columns=['Id','SalePrice']\n",
    "result_df.Id=result_df.Id.astype('Int32')\n",
    "result_df.to_csv('result.csv',index=False)"
   ]
  },
  {
   "cell_type": "code",
   "execution_count": null,
   "id": "81ce9f56-3955-411b-89ce-abd97fb224b8",
   "metadata": {},
   "outputs": [],
   "source": []
  },
  {
   "cell_type": "code",
   "execution_count": null,
   "id": "dc634fc0-9873-4d15-8246-c6b5d0ccf312",
   "metadata": {},
   "outputs": [],
   "source": []
  },
  {
   "cell_type": "code",
   "execution_count": null,
   "id": "e2cfcd36-7c2b-47de-8f02-3072d83db063",
   "metadata": {},
   "outputs": [],
   "source": []
  },
  {
   "cell_type": "code",
   "execution_count": null,
   "id": "6b9e6ddc-f7ed-4d13-a99f-b3b4a58025ef",
   "metadata": {},
   "outputs": [],
   "source": []
  },
  {
   "cell_type": "code",
   "execution_count": 113,
   "id": "cc6ec0bd-8748-4283-9eb5-5bc2fb5cc2f3",
   "metadata": {},
   "outputs": [],
   "source": []
  },
  {
   "cell_type": "code",
   "execution_count": 114,
   "id": "bc89d3c1-af58-47ed-b719-4089f25557bc",
   "metadata": {},
   "outputs": [],
   "source": []
  },
  {
   "cell_type": "code",
   "execution_count": null,
   "id": "f3150d07-4c91-49ef-909d-8af5e80051c0",
   "metadata": {},
   "outputs": [],
   "source": []
  },
  {
   "cell_type": "code",
   "execution_count": null,
   "id": "46082da9-9228-45a2-a031-e4996535d3d6",
   "metadata": {},
   "outputs": [],
   "source": []
  },
  {
   "cell_type": "code",
   "execution_count": null,
   "id": "84180a5b-70ad-445d-86a5-96e560636703",
   "metadata": {},
   "outputs": [],
   "source": []
  },
  {
   "cell_type": "code",
   "execution_count": null,
   "id": "7c0ed138-b1e8-4ffe-a4db-0b9cc4ac2331",
   "metadata": {},
   "outputs": [],
   "source": []
  }
 ],
 "metadata": {
  "kernelspec": {
   "display_name": "Python 3 (ipykernel)",
   "language": "python",
   "name": "python3"
  },
  "language_info": {
   "codemirror_mode": {
    "name": "ipython",
    "version": 3
   },
   "file_extension": ".py",
   "mimetype": "text/x-python",
   "name": "python",
   "nbconvert_exporter": "python",
   "pygments_lexer": "ipython3",
   "version": "3.9.18"
  }
 },
 "nbformat": 4,
 "nbformat_minor": 5
}
